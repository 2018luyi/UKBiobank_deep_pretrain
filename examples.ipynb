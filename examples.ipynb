{
 "cells": [
  {
   "cell_type": "code",
   "execution_count": 1,
   "metadata": {},
   "outputs": [],
   "source": [
    "from dp_model.model_files.sfcn import SFCN\n",
    "from dp_model import dp_loss as dpl\n",
    "from dp_model import dp_utils as dpu\n",
    "import torch\n",
    "import torch.nn.functional as F\n",
    "import numpy as np\n",
    "import matplotlib.pyplot as plt"
   ]
  },
  {
   "cell_type": "markdown",
   "metadata": {},
   "source": [
    "# Example for Brain Age Prediction"
   ]
  },
  {
   "cell_type": "code",
   "execution_count": 2,
   "metadata": {},
   "outputs": [
    {
     "name": "stdout",
     "output_type": "stream",
     "text": [
      "Label shape: torch.Size([1, 40])\n",
      "Input data shape: torch.Size([1, 1, 160, 192, 160])\n",
      "dtype: torch.float32\n",
      "Output shape: torch.Size([1, 40])\n"
     ]
    },
    {
     "data": {
      "image/png": "[encoded data removed]",
      "text/plain": [
       "<Figure size 432x288 with 1 Axes>"
      ]
     },
     "metadata": {
      "needs_background": "light"
     },
     "output_type": "display_data"
    },
    {
     "data": {
      "image/png": "[encoded data removed]",
      "text/plain": [
       "<Figure size 432x288 with 1 Axes>"
      ]
     },
     "metadata": {
      "needs_background": "light"
     },
     "output_type": "display_data"
    }
   ],
   "source": [
    "# Example\n",
    "model = SFCN()\n",
    "model = torch.nn.DataParallel(model)\n",
    "fp_ = './brain_age/run_20190719_00_epoch_best_mae.p'\n",
    "model.load_state_dict(torch.load(fp_))\n",
    "model.cuda()\n",
    "\n",
    "# Example data: some random brain in the MNI152 1mm std space\n",
    "data = np.random.rand(182, 218, 182)\n",
    "label = np.array([71.3,]) # Assuming the random subject is 71.3-year-old.\n",
    "\n",
    "# Transforming the age to soft label (probability distribution)\n",
    "bin_range = [42,82]\n",
    "bin_step = 1\n",
    "sigma = 1\n",
    "y, bc = dpu.num2vect(label, bin_range, bin_step, sigma)\n",
    "y = torch.tensor(y, dtype=torch.float32)\n",
    "print(f'Label shape: {y.shape}')\n",
    "\n",
    "# Preprocessing\n",
    "data = data/data.mean()\n",
    "data = dpu.crop_center(data, (160, 192, 160))\n",
    "\n",
    "# Move the data from numpy to torch tensor on GPU\n",
    "sp = (1,1)+data.shape\n",
    "data = data.reshape(sp)\n",
    "input_data = torch.tensor(data, dtype=torch.float32).cuda()\n",
    "print(f'Input data shape: {input_data.shape}')\n",
    "print(f'dtype: {input_data.dtype}')\n",
    "\n",
    "# Evaluation\n",
    "model.eval() # Don't forget this. BatchNorm will be affected if not in eval mode.\n",
    "with torch.no_grad():\n",
    "    output = model(input_data)\n",
    "\n",
    "# Output, loss, visualisation\n",
    "x = output[0].cpu().reshape([1, -1])\n",
    "print(f'Output shape: {x.shape}')\n",
    "loss = dpl.my_KLDivLoss(x, y).numpy()\n",
    "\n",
    "# Prediction, Visualisation and Summary\n",
    "x = x.numpy().reshape(-1)\n",
    "y = y.numpy().reshape(-1)\n",
    "\n",
    "plt.bar(bc, y)\n",
    "plt.title('Soft label')\n",
    "plt.show()\n",
    "\n",
    "prob = np.exp(x)\n",
    "pred = prob@bc\n",
    "plt.bar(bc, prob)\n",
    "plt.title(f'Prediction: age={pred:.2f}\\nloss={loss}')\n",
    "plt.show()"
   ]
  },
  {
   "cell_type": "markdown",
   "metadata": {},
   "source": [
    "# Example for Sex Prediction"
   ]
  },
  {
   "cell_type": "code",
   "execution_count": 3,
   "metadata": {},
   "outputs": [
    {
     "name": "stdout",
     "output_type": "stream",
     "text": [
      "Input data shape: torch.Size([1, 1, 160, 192, 160])\n",
      "dtype: torch.float32\n",
      "\n",
      "Predicted probability: \n",
      "Female\t36.82%,\n",
      "Male\t63.18%\n"
     ]
    }
   ],
   "source": [
    "# Example\n",
    "model = SFCN(output_dim=2, channel_number=[28, 58, 128, 256, 256, 64])\n",
    "model = torch.nn.DataParallel(model)\n",
    "fp_ = './sex_prediction/run_20191008_00_epoch_last.p'\n",
    "model.load_state_dict(torch.load(fp_))\n",
    "model.cuda()\n",
    "\n",
    "# Example data: some random brain in the MNI152 1mm std space\n",
    "data = np.random.rand(182, 218, 182)\n",
    "y = torch.tensor([1]) # Assuming Sex is Male (0=Female, 1=Male)\n",
    "\n",
    "# Preprocessing\n",
    "data = data/data.mean()\n",
    "data = dpu.crop_center(data, (160, 192, 160))\n",
    "\n",
    "# Move the data from numpy to torch tensor on GPU\n",
    "sp = (1,1)+data.shape\n",
    "data = data.reshape(sp)\n",
    "input_data = torch.tensor(data, dtype=torch.float32).cuda()\n",
    "print(f'Input data shape: {input_data.shape}')\n",
    "print(f'dtype: {input_data.dtype}')\n",
    "\n",
    "# Evaluation\n",
    "model.eval() # Don't forget this. BatchNorm will be affected if not in eval mode.\n",
    "with torch.no_grad():\n",
    "    output = model(input_data)\n",
    "\n",
    "# Output, loss, visualisation\n",
    "x = output[0].cpu().reshape([1, -1])\n",
    "loss = F.nll_loss(x, y)\n",
    "\n",
    "# Prediction, Visualisation and Summary\n",
    "x = np.exp(x.numpy().reshape(-1))\n",
    "\n",
    "print('\\nPredicted probability: \\nFemale\\t%.2f%%,\\nMale\\t%.2f%%'%(x[0]*100, x[1]*100))"
   ]
  }
 ],
 "metadata": {
  "kernelspec": {
   "display_name": "Python 3",
   "language": "python",
   "name": "python3"
  },
  "language_info": {
   "codemirror_mode": {
    "name": "ipython",
    "version": 3
   },
   "file_extension": ".py",
   "mimetype": "text/x-python",
   "name": "python",
   "nbconvert_exporter": "python",
   "pygments_lexer": "ipython3",
   "version": "3.6.10"
  }
 },
 "nbformat": 4,
 "nbformat_minor": 4
}
